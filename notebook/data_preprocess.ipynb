{
 "cells": [
  {
   "cell_type": "code",
   "execution_count": null,
   "metadata": {},
   "outputs": [],
   "source": [
    "import pandas as pd\n",
    "import numpy as np\n",
    "\n",
    "import plotly.express as px"
   ]
  },
  {
   "cell_type": "markdown",
   "metadata": {},
   "source": [
    "### Read-In Data"
   ]
  },
  {
   "cell_type": "code",
   "execution_count": null,
   "metadata": {},
   "outputs": [],
   "source": [
    "data_raw = pd.read_csv(\"../data/census.csv\")"
   ]
  },
  {
   "cell_type": "code",
   "execution_count": null,
   "metadata": {},
   "outputs": [],
   "source": [
    "data_raw.head(5)"
   ]
  },
  {
   "cell_type": "code",
   "execution_count": null,
   "metadata": {},
   "outputs": [],
   "source": [
    "# Remove Space of column name\n",
    "data_raw.columns = [col.strip() for col in data_raw.columns]"
   ]
  },
  {
   "cell_type": "markdown",
   "metadata": {},
   "source": [
    "### Check Data Type and Missing Data"
   ]
  },
  {
   "cell_type": "code",
   "execution_count": null,
   "metadata": {},
   "outputs": [],
   "source": [
    "df_data_type = pd.DataFrame(data_raw.dtypes)\n",
    "df_data_type.reset_index(inplace = True)\n",
    "df_data_type.rename(columns = {'index' : \"columns_name\", 0: \"Data Type\"},inplace = True)\n",
    "\n",
    "df_data_missing = pd.DataFrame(data_raw.isna().mean()*100)\n",
    "df_data_missing.reset_index(inplace = True)\n",
    "df_data_missing.rename(columns = {'index' : \"columns_name\", 0: \"Missing Percentage\"},inplace = True)\n",
    "\n",
    "df_data_checking = pd.merge(df_data_type, df_data_missing, on = 'columns_name')"
   ]
  },
  {
   "cell_type": "code",
   "execution_count": null,
   "metadata": {},
   "outputs": [],
   "source": [
    "df_data_checking"
   ]
  },
  {
   "cell_type": "markdown",
   "metadata": {},
   "source": [
    "### Data Check by Columns"
   ]
  },
  {
   "cell_type": "markdown",
   "metadata": {},
   "source": [
    "#### Categorical Data"
   ]
  },
  {
   "cell_type": "code",
   "execution_count": null,
   "metadata": {},
   "outputs": [],
   "source": [
    "categorical_columns = data_raw.select_dtypes(\"object\").columns\n",
    "numerical_columns = list(set(data_raw.columns).difference(set(categorical_columns)))"
   ]
  },
  {
   "cell_type": "code",
   "execution_count": null,
   "metadata": {},
   "outputs": [],
   "source": [
    "def plot_categorical_count(df:pd.DataFrame, column_count:str) -> None:\n",
    "    count_df = pd.DataFrame(df.groupby([column_count]).size()).reset_index()\n",
    "    count_df.rename(columns = {0 : 'Records Count'}, inplace = True)\n",
    "    count_df.sort_values(by = 'Records Count', ascending= False, inplace = True)\n",
    "\n",
    "    count_plot = px.histogram(count_df, x = column_count , y = \"Records Count\",\n",
    "                              color = column_count, width= 700, height=400,\n",
    "                              title= f\"Count of {column_count}\")\n",
    "    count_plot.show()"
   ]
  },
  {
   "cell_type": "code",
   "execution_count": null,
   "metadata": {},
   "outputs": [],
   "source": [
    "for col_name in categorical_columns:\n",
    "    plot_categorical_count(data_raw, col_name)"
   ]
  },
  {
   "cell_type": "markdown",
   "metadata": {},
   "source": [
    "### Data Cleaning - Categorical Data"
   ]
  },
  {
   "cell_type": "code",
   "execution_count": null,
   "metadata": {},
   "outputs": [],
   "source": [
    "# Replace '?' with np.nan to make replace with imputed value\n",
    "data_raw.replace('?', np.nan, inplace = True)\n",
    "data_raw.replace('? ', np.nan, inplace = True)\n",
    "data_raw.replace(' ?', np.nan, inplace = True)\n",
    "\n",
    "# Replace all NA with mode on each columns\n",
    "# Remove white space in data\n",
    "for cat_col in categorical_columns:\n",
    "    col_mode = data_raw[cat_col].mode()\n",
    "    data_raw[cat_col] = data_raw[cat_col].str.strip()\n",
    "    data_raw[cat_col] = data_raw[cat_col].fillna(str(col_mode))"
   ]
  },
  {
   "cell_type": "markdown",
   "metadata": {},
   "source": [
    "### Categorical Grouping"
   ]
  },
  {
   "cell_type": "code",
   "execution_count": null,
   "metadata": {},
   "outputs": [],
   "source": [
    "# Group naitve-country into \"United-State\" and \"Other\"\n",
    "data_raw['native-country'] = np.where(data_raw['native-country'] != 'United-States', 'Other', 'United-States')\n",
    "\n",
    "# Group race into \"White\", \"Black\" and \"Other\"\n",
    "data_raw['race'] = np.where((data_raw['race'] == 'Asian-Pac-Islander') |\n",
    "                            (data_raw['race'] == 'Amer-Indian-Eskimo'), 'Other', data_raw['race'])\n",
    "\n",
    "data_raw['education'].replace(['11th', '9th', '7th-8th', '5th-6th', \n",
    "                               '10th', '1st-4th', 'Preschool', '12th'], 'School', inplace = True)                       "
   ]
  },
  {
   "cell_type": "markdown",
   "metadata": {},
   "source": [
    "#### Numerical Data"
   ]
  },
  {
   "cell_type": "code",
   "execution_count": null,
   "metadata": {},
   "outputs": [],
   "source": [
    "def numerical_hist_plot(data:pd.DataFrame, numerical_col:str) -> None:\n",
    "    histogram_plot = px.histogram(data, x = numerical_col,\n",
    "                                  width = 700, height=400,\n",
    "                                  title= f\"Hitogram of {numerical_col}\")\n",
    "    histogram_plot.show()"
   ]
  },
  {
   "cell_type": "code",
   "execution_count": null,
   "metadata": {},
   "outputs": [],
   "source": [
    "for col_name in numerical_columns:\n",
    "    numerical_hist_plot(data_raw, col_name)"
   ]
  },
  {
   "cell_type": "code",
   "execution_count": null,
   "metadata": {},
   "outputs": [],
   "source": [
    "data_raw.drop(columns = ['capital-gain', 'capital-loss'], inplace = True)"
   ]
  },
  {
   "cell_type": "code",
   "execution_count": null,
   "metadata": {},
   "outputs": [],
   "source": [
    "data_raw.to_csv(\"../data/census_clean.csv\", index = 0)"
   ]
  },
  {
   "cell_type": "code",
   "execution_count": null,
   "metadata": {},
   "outputs": [],
   "source": []
  }
 ],
 "metadata": {
  "interpreter": {
   "hash": "c627cbd8298e61f5d807bd70e1856c0a810ac2c0c1e0e9c4e3a798bcc8e916d7"
  },
  "kernelspec": {
   "display_name": "Python 3.8.5 ('base')",
   "language": "python",
   "name": "python3"
  },
  "language_info": {
   "codemirror_mode": {
    "name": "ipython",
    "version": 3
   },
   "file_extension": ".py",
   "mimetype": "text/x-python",
   "name": "python",
   "nbconvert_exporter": "python",
   "pygments_lexer": "ipython3",
   "version": "3.8.5"
  },
  "orig_nbformat": 4
 },
 "nbformat": 4,
 "nbformat_minor": 2
}
